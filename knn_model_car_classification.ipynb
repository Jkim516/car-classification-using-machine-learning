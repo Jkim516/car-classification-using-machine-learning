{
 "cells": [
  {
   "cell_type": "markdown",
   "metadata": {},
   "source": [
    "### K-Nearest Neighbor Model for Car Classification\n",
    "\n",
    "This notebook use KNN model to predict car classification based on the train/test split data from data prep notebook\n",
    "- construct model will be fitted with default paramters and result evaluated\n",
    "- tune model to get optimial k parameter using f1 score\n",
    "- explore impact on model performance by different features"
   ]
  },
  {
   "cell_type": "code",
   "execution_count": 1,
   "metadata": {},
   "outputs": [],
   "source": [
    "#import relevant packages and libraries\n",
    "import pandas as pd\n",
    "import numpy as np\n",
    "import matplotlib.pyplot as plt\n",
    "%matplotlib inline\n",
    "import pickle\n",
    "import functions as fn\n",
    "from sklearn.model_selection import train_test_split\n",
    "from sklearn.preprocessing import OneHotEncoder\n",
    "from sklearn.preprocessing import StandardScaler\n",
    "from sklearn.neighbors import KNeighborsClassifier\n",
    "import sklearn.metrics as metric\n",
    "plt.style.use('ggplot')\n",
    "\n",
    "#run data_prep notebook to create train/test split data pickles"
   ]
  },
  {
   "cell_type": "code",
   "execution_count": 2,
   "metadata": {},
   "outputs": [],
   "source": [
    "#retrieve train/test split data\n",
    "with open('X_train.pickle', 'rb') as file:\n",
    "    X_train = pickle.load(file)\n",
    "    \n",
    "with open('X_test.pickle', 'rb') as file:\n",
    "    X_test = pickle.load(file)\n",
    "\n",
    "with open('y_train.pickle', 'rb') as file:\n",
    "    y_train = pickle.load(file)\n",
    "    \n",
    "with open('y_test.pickle', 'rb') as file:\n",
    "    y_test = pickle.load(file)"
   ]
  },
  {
   "cell_type": "code",
   "execution_count": 3,
   "metadata": {
    "scrolled": true
   },
   "outputs": [
    {
     "data": {
      "text/html": [
       "<div>\n",
       "<style scoped>\n",
       "    .dataframe tbody tr th:only-of-type {\n",
       "        vertical-align: middle;\n",
       "    }\n",
       "\n",
       "    .dataframe tbody tr th {\n",
       "        vertical-align: top;\n",
       "    }\n",
       "\n",
       "    .dataframe thead th {\n",
       "        text-align: right;\n",
       "    }\n",
       "</style>\n",
       "<table border=\"1\" class=\"dataframe\">\n",
       "  <thead>\n",
       "    <tr style=\"text-align: right;\">\n",
       "      <th></th>\n",
       "      <th>Year</th>\n",
       "      <th>Engine HP</th>\n",
       "      <th>Engine Cylinders</th>\n",
       "      <th>highway MPG</th>\n",
       "      <th>city mpg</th>\n",
       "      <th>Popularity</th>\n",
       "      <th>MSRP</th>\n",
       "      <th>Performance</th>\n",
       "      <th>Factory Tuner</th>\n",
       "      <th>Hybrid</th>\n",
       "      <th>...</th>\n",
       "      <th>x4_Cargo Van</th>\n",
       "      <th>x4_Convertible</th>\n",
       "      <th>x4_Coupe</th>\n",
       "      <th>x4_Crew Cab Pickup</th>\n",
       "      <th>x4_Extended Cab Pickup</th>\n",
       "      <th>x4_Passenger Minivan</th>\n",
       "      <th>x4_Passenger Van</th>\n",
       "      <th>x4_Regular Cab Pickup</th>\n",
       "      <th>x4_Sedan</th>\n",
       "      <th>x4_Wagon</th>\n",
       "    </tr>\n",
       "  </thead>\n",
       "  <tbody>\n",
       "    <tr>\n",
       "      <th>0</th>\n",
       "      <td>1.070747</td>\n",
       "      <td>2.463359</td>\n",
       "      <td>1.174737</td>\n",
       "      <td>-1.163008</td>\n",
       "      <td>-0.833465</td>\n",
       "      <td>-0.665766</td>\n",
       "      <td>0.863701</td>\n",
       "      <td>-0.554457</td>\n",
       "      <td>3.549477</td>\n",
       "      <td>-0.231191</td>\n",
       "      <td>...</td>\n",
       "      <td>-0.079359</td>\n",
       "      <td>-0.292225</td>\n",
       "      <td>-0.3571</td>\n",
       "      <td>-0.218013</td>\n",
       "      <td>-0.143280</td>\n",
       "      <td>-0.073439</td>\n",
       "      <td>-0.131456</td>\n",
       "      <td>-0.134932</td>\n",
       "      <td>-0.551356</td>\n",
       "      <td>-0.195067</td>\n",
       "    </tr>\n",
       "    <tr>\n",
       "      <th>1</th>\n",
       "      <td>0.522695</td>\n",
       "      <td>-0.933291</td>\n",
       "      <td>-0.895280</td>\n",
       "      <td>0.364742</td>\n",
       "      <td>0.178210</td>\n",
       "      <td>-0.526818</td>\n",
       "      <td>-0.514851</td>\n",
       "      <td>-0.554457</td>\n",
       "      <td>-0.281732</td>\n",
       "      <td>-0.231191</td>\n",
       "      <td>...</td>\n",
       "      <td>-0.079359</td>\n",
       "      <td>-0.292225</td>\n",
       "      <td>-0.3571</td>\n",
       "      <td>-0.218013</td>\n",
       "      <td>-0.143280</td>\n",
       "      <td>-0.073439</td>\n",
       "      <td>-0.131456</td>\n",
       "      <td>-0.134932</td>\n",
       "      <td>-0.551356</td>\n",
       "      <td>-0.195067</td>\n",
       "    </tr>\n",
       "    <tr>\n",
       "      <th>2</th>\n",
       "      <td>-2.765616</td>\n",
       "      <td>-0.206048</td>\n",
       "      <td>0.139728</td>\n",
       "      <td>-0.290008</td>\n",
       "      <td>-0.496240</td>\n",
       "      <td>-0.790270</td>\n",
       "      <td>-0.429133</td>\n",
       "      <td>1.803566</td>\n",
       "      <td>-0.281732</td>\n",
       "      <td>-0.231191</td>\n",
       "      <td>...</td>\n",
       "      <td>-0.079359</td>\n",
       "      <td>-0.292225</td>\n",
       "      <td>-0.3571</td>\n",
       "      <td>-0.218013</td>\n",
       "      <td>-0.143280</td>\n",
       "      <td>-0.073439</td>\n",
       "      <td>-0.131456</td>\n",
       "      <td>-0.134932</td>\n",
       "      <td>-0.551356</td>\n",
       "      <td>-0.195067</td>\n",
       "    </tr>\n",
       "    <tr>\n",
       "      <th>3</th>\n",
       "      <td>0.522695</td>\n",
       "      <td>-0.762175</td>\n",
       "      <td>-0.895280</td>\n",
       "      <td>-0.290008</td>\n",
       "      <td>-0.159015</td>\n",
       "      <td>-0.137486</td>\n",
       "      <td>-0.437842</td>\n",
       "      <td>-0.554457</td>\n",
       "      <td>-0.281732</td>\n",
       "      <td>-0.231191</td>\n",
       "      <td>...</td>\n",
       "      <td>-0.079359</td>\n",
       "      <td>-0.292225</td>\n",
       "      <td>-0.3571</td>\n",
       "      <td>-0.218013</td>\n",
       "      <td>6.979335</td>\n",
       "      <td>-0.073439</td>\n",
       "      <td>-0.131456</td>\n",
       "      <td>-0.134932</td>\n",
       "      <td>-0.551356</td>\n",
       "      <td>-0.195067</td>\n",
       "    </tr>\n",
       "    <tr>\n",
       "      <th>4</th>\n",
       "      <td>-0.573409</td>\n",
       "      <td>-1.617754</td>\n",
       "      <td>-0.895280</td>\n",
       "      <td>0.801242</td>\n",
       "      <td>0.965069</td>\n",
       "      <td>-0.687090</td>\n",
       "      <td>-0.643172</td>\n",
       "      <td>-0.554457</td>\n",
       "      <td>-0.281732</td>\n",
       "      <td>-0.231191</td>\n",
       "      <td>...</td>\n",
       "      <td>-0.079359</td>\n",
       "      <td>-0.292225</td>\n",
       "      <td>-0.3571</td>\n",
       "      <td>-0.218013</td>\n",
       "      <td>-0.143280</td>\n",
       "      <td>-0.073439</td>\n",
       "      <td>-0.131456</td>\n",
       "      <td>-0.134932</td>\n",
       "      <td>-0.551356</td>\n",
       "      <td>-0.195067</td>\n",
       "    </tr>\n",
       "  </tbody>\n",
       "</table>\n",
       "<p>5 rows × 49 columns</p>\n",
       "</div>"
      ],
      "text/plain": [
       "       Year  Engine HP  Engine Cylinders  highway MPG  city mpg  Popularity  \\\n",
       "0  1.070747   2.463359          1.174737    -1.163008 -0.833465   -0.665766   \n",
       "1  0.522695  -0.933291         -0.895280     0.364742  0.178210   -0.526818   \n",
       "2 -2.765616  -0.206048          0.139728    -0.290008 -0.496240   -0.790270   \n",
       "3  0.522695  -0.762175         -0.895280    -0.290008 -0.159015   -0.137486   \n",
       "4 -0.573409  -1.617754         -0.895280     0.801242  0.965069   -0.687090   \n",
       "\n",
       "       MSRP  Performance  Factory Tuner    Hybrid  ...  x4_Cargo Van  \\\n",
       "0  0.863701    -0.554457       3.549477 -0.231191  ...     -0.079359   \n",
       "1 -0.514851    -0.554457      -0.281732 -0.231191  ...     -0.079359   \n",
       "2 -0.429133     1.803566      -0.281732 -0.231191  ...     -0.079359   \n",
       "3 -0.437842    -0.554457      -0.281732 -0.231191  ...     -0.079359   \n",
       "4 -0.643172    -0.554457      -0.281732 -0.231191  ...     -0.079359   \n",
       "\n",
       "   x4_Convertible  x4_Coupe  x4_Crew Cab Pickup  x4_Extended Cab Pickup  \\\n",
       "0       -0.292225   -0.3571           -0.218013               -0.143280   \n",
       "1       -0.292225   -0.3571           -0.218013               -0.143280   \n",
       "2       -0.292225   -0.3571           -0.218013               -0.143280   \n",
       "3       -0.292225   -0.3571           -0.218013                6.979335   \n",
       "4       -0.292225   -0.3571           -0.218013               -0.143280   \n",
       "\n",
       "   x4_Passenger Minivan  x4_Passenger Van  x4_Regular Cab Pickup  x4_Sedan  \\\n",
       "0             -0.073439         -0.131456              -0.134932 -0.551356   \n",
       "1             -0.073439         -0.131456              -0.134932 -0.551356   \n",
       "2             -0.073439         -0.131456              -0.134932 -0.551356   \n",
       "3             -0.073439         -0.131456              -0.134932 -0.551356   \n",
       "4             -0.073439         -0.131456              -0.134932 -0.551356   \n",
       "\n",
       "   x4_Wagon  \n",
       "0 -0.195067  \n",
       "1 -0.195067  \n",
       "2 -0.195067  \n",
       "3 -0.195067  \n",
       "4 -0.195067  \n",
       "\n",
       "[5 rows x 49 columns]"
      ]
     },
     "execution_count": 3,
     "metadata": {},
     "output_type": "execute_result"
    }
   ],
   "source": [
    "#normalizing feature data (X_train and X_test) using Standard Scaler\n",
    "scaler = StandardScaler()\n",
    "scaled_data_train = scaler.fit_transform(X_train)\n",
    "scaled_data_test = scaler.transform(X_test)\n",
    "\n",
    "scaled_df_train = pd.DataFrame(scaled_data_train, columns = X_train.columns)\n",
    "scaled_df_test = pd.DataFrame(scaler.transform(X_test), columns = X_test.columns)\n",
    "scaled_df_train.head()\n",
    "#preview scaled data"
   ]
  },
  {
   "cell_type": "code",
   "execution_count": 4,
   "metadata": {},
   "outputs": [],
   "source": [
    "#fit base model using default parameters\n",
    "knn = KNeighborsClassifier()\n",
    "knn.fit(scaled_data_train, y_train)\n",
    "\n",
    "#predict for test and train data sets\n",
    "test_preds = knn.predict(scaled_data_test)\n",
    "train_preds = knn.predict(scaled_data_train)"
   ]
  },
  {
   "cell_type": "code",
   "execution_count": 5,
   "metadata": {},
   "outputs": [
    {
     "name": "stdout",
     "output_type": "stream",
     "text": [
      "              precision    recall  f1-score   support\n",
      "\n",
      "           0       0.84      0.73      0.78        37\n",
      "           1       0.80      0.77      0.78        64\n",
      "           2       0.91      0.92      0.91       478\n",
      "           3       0.91      0.92      0.91       317\n",
      "           4       0.89      0.91      0.90       460\n",
      "           5       0.92      0.78      0.84        72\n",
      "           6       0.92      0.92      0.92        64\n",
      "\n",
      "    accuracy                           0.90      1492\n",
      "   macro avg       0.88      0.85      0.87      1492\n",
      "weighted avg       0.90      0.90      0.90      1492\n",
      "\n"
     ]
    }
   ],
   "source": [
    "#evaluate model performance, metrics for test set\n",
    "print(metric.classification_report(y_test, test_preds))"
   ]
  },
  {
   "cell_type": "code",
   "execution_count": 6,
   "metadata": {},
   "outputs": [
    {
     "name": "stdout",
     "output_type": "stream",
     "text": [
      "              precision    recall  f1-score   support\n",
      "\n",
      "           0       0.89      0.84      0.87       109\n",
      "           1       0.87      0.87      0.87       157\n",
      "           2       0.94      0.97      0.96      1431\n",
      "           3       0.95      0.95      0.95      1008\n",
      "           4       0.94      0.94      0.94      1337\n",
      "           5       0.90      0.80      0.85       205\n",
      "           6       0.97      0.95      0.96       227\n",
      "\n",
      "    accuracy                           0.94      4474\n",
      "   macro avg       0.92      0.90      0.91      4474\n",
      "weighted avg       0.94      0.94      0.94      4474\n",
      "\n"
     ]
    }
   ],
   "source": [
    "#metrics for train set, there is slight overfitting\n",
    "print(metric.classification_report(y_train, train_preds))"
   ]
  },
  {
   "cell_type": "code",
   "execution_count": 7,
   "metadata": {},
   "outputs": [
    {
     "data": {
      "text/plain": [
       "(1, 0.9684986595174263)"
      ]
     },
     "execution_count": 7,
     "metadata": {},
     "output_type": "execute_result"
    }
   ],
   "source": [
    "#find best k based on f1 score\n",
    "fn.optimize_k_knn(scaled_data_train, y_train, scaled_data_test, y_test, min_k=1, max_k=10)"
   ]
  },
  {
   "cell_type": "code",
   "execution_count": 8,
   "metadata": {},
   "outputs": [],
   "source": [
    "#fit model with paramter k=1\n",
    "knn = KNeighborsClassifier(n_neighbors=1)\n",
    "knn.fit(scaled_data_train, y_train)\n",
    "test_preds = knn.predict(scaled_data_test)\n",
    "train_preds = knn.predict(scaled_data_train)"
   ]
  },
  {
   "cell_type": "code",
   "execution_count": 9,
   "metadata": {
    "scrolled": true
   },
   "outputs": [
    {
     "name": "stdout",
     "output_type": "stream",
     "text": [
      "              precision    recall  f1-score   support\n",
      "\n",
      "           0       0.97      1.00      0.99        37\n",
      "           1       0.97      0.94      0.95        64\n",
      "           2       0.97      0.97      0.97       478\n",
      "           3       0.97      0.98      0.97       317\n",
      "           4       0.97      0.96      0.97       460\n",
      "           5       0.93      0.96      0.95        72\n",
      "           6       0.98      0.98      0.98        64\n",
      "\n",
      "    accuracy                           0.97      1492\n",
      "   macro avg       0.97      0.97      0.97      1492\n",
      "weighted avg       0.97      0.97      0.97      1492\n",
      "\n"
     ]
    }
   ],
   "source": [
    "#checking testing metrics\n",
    "print(metric.classification_report(y_test, test_preds))"
   ]
  },
  {
   "cell_type": "code",
   "execution_count": 10,
   "metadata": {},
   "outputs": [
    {
     "name": "stdout",
     "output_type": "stream",
     "text": [
      "              precision    recall  f1-score   support\n",
      "\n",
      "           0       1.00      1.00      1.00       109\n",
      "           1       1.00      1.00      1.00       157\n",
      "           2       1.00      1.00      1.00      1431\n",
      "           3       1.00      1.00      1.00      1008\n",
      "           4       1.00      1.00      1.00      1337\n",
      "           5       1.00      1.00      1.00       205\n",
      "           6       1.00      1.00      1.00       227\n",
      "\n",
      "    accuracy                           1.00      4474\n",
      "   macro avg       1.00      1.00      1.00      4474\n",
      "weighted avg       1.00      1.00      1.00      4474\n",
      "\n"
     ]
    }
   ],
   "source": [
    "print(metric.classification_report(y_train, train_preds))"
   ]
  },
  {
   "cell_type": "markdown",
   "metadata": {},
   "source": [
    "Optimal k value is 1, indicating that some features are highly deterministic in predicating classes"
   ]
  },
  {
   "cell_type": "code",
   "execution_count": 11,
   "metadata": {},
   "outputs": [],
   "source": [
    "#remove Popularity from features\n",
    "scaled_df_train_2 = scaled_df_train.drop('Popularity', axis=1)\n",
    "scaled_df_test_2 = scaled_df_test.drop('Popularity', axis=1)"
   ]
  },
  {
   "cell_type": "code",
   "execution_count": 12,
   "metadata": {},
   "outputs": [],
   "source": [
    "knn = KNeighborsClassifier()\n",
    "knn.fit(scaled_df_train_2, y_train)\n",
    "test_preds = knn.predict(scaled_df_test_2)\n",
    "train_preds = knn.predict(scaled_df_train_2)"
   ]
  },
  {
   "cell_type": "code",
   "execution_count": 13,
   "metadata": {},
   "outputs": [
    {
     "name": "stdout",
     "output_type": "stream",
     "text": [
      "              precision    recall  f1-score   support\n",
      "\n",
      "           0       0.72      0.76      0.74        37\n",
      "           1       0.84      0.75      0.79        64\n",
      "           2       0.90      0.90      0.90       478\n",
      "           3       0.87      0.90      0.89       317\n",
      "           4       0.86      0.87      0.86       460\n",
      "           5       0.83      0.67      0.74        72\n",
      "           6       0.92      0.91      0.91        64\n",
      "\n",
      "    accuracy                           0.87      1492\n",
      "   macro avg       0.85      0.82      0.83      1492\n",
      "weighted avg       0.87      0.87      0.87      1492\n",
      "\n"
     ]
    }
   ],
   "source": [
    "#metrics for test data\n",
    "print(metric.classification_report(y_test, test_preds))"
   ]
  },
  {
   "cell_type": "code",
   "execution_count": 14,
   "metadata": {},
   "outputs": [
    {
     "name": "stdout",
     "output_type": "stream",
     "text": [
      "              precision    recall  f1-score   support\n",
      "\n",
      "           0       0.87      0.86      0.87       109\n",
      "           1       0.88      0.85      0.86       157\n",
      "           2       0.94      0.95      0.95      1431\n",
      "           3       0.93      0.94      0.93      1008\n",
      "           4       0.92      0.92      0.92      1337\n",
      "           5       0.89      0.76      0.82       205\n",
      "           6       0.96      0.94      0.95       227\n",
      "\n",
      "    accuracy                           0.93      4474\n",
      "   macro avg       0.91      0.89      0.90      4474\n",
      "weighted avg       0.93      0.93      0.93      4474\n",
      "\n"
     ]
    }
   ],
   "source": [
    "#metrics for training data\n",
    "print(metric.classification_report(y_train, train_preds))"
   ]
  },
  {
   "cell_type": "code",
   "execution_count": 15,
   "metadata": {},
   "outputs": [
    {
     "data": {
      "text/plain": [
       "(1, 0.9403485254691689)"
      ]
     },
     "execution_count": 15,
     "metadata": {},
     "output_type": "execute_result"
    }
   ],
   "source": [
    "#check for best k parameter by optimizing f1 score\n",
    "fn.optimize_k_knn(scaled_df_train_2, y_train, scaled_df_test_2, y_test, min_k=1, max_k=10)"
   ]
  },
  {
   "cell_type": "code",
   "execution_count": 16,
   "metadata": {},
   "outputs": [],
   "source": [
    "#build model with k=1\n",
    "knn = KNeighborsClassifier(n_neighbors=1)\n",
    "knn.fit(scaled_df_train_2, y_train)\n",
    "test_preds = knn.predict(scaled_df_test_2)\n",
    "train_preds = knn.predict(scaled_df_train_2)"
   ]
  },
  {
   "cell_type": "code",
   "execution_count": 17,
   "metadata": {},
   "outputs": [
    {
     "name": "stdout",
     "output_type": "stream",
     "text": [
      "              precision    recall  f1-score   support\n",
      "\n",
      "           0       0.86      0.97      0.91        37\n",
      "           1       1.00      0.94      0.97        64\n",
      "           2       0.95      0.96      0.95       478\n",
      "           3       0.95      0.96      0.96       317\n",
      "           4       0.94      0.93      0.93       460\n",
      "           5       0.83      0.79      0.81        72\n",
      "           6       0.97      0.95      0.96        64\n",
      "\n",
      "    accuracy                           0.94      1492\n",
      "   macro avg       0.93      0.93      0.93      1492\n",
      "weighted avg       0.94      0.94      0.94      1492\n",
      "\n"
     ]
    }
   ],
   "source": [
    "print(metric.classification_report(y_test, test_preds))"
   ]
  },
  {
   "cell_type": "code",
   "execution_count": 18,
   "metadata": {},
   "outputs": [
    {
     "name": "stdout",
     "output_type": "stream",
     "text": [
      "              precision    recall  f1-score   support\n",
      "\n",
      "           0       1.00      1.00      1.00       109\n",
      "           1       1.00      1.00      1.00       157\n",
      "           2       1.00      1.00      1.00      1431\n",
      "           3       1.00      1.00      1.00      1008\n",
      "           4       1.00      1.00      1.00      1337\n",
      "           5       1.00      1.00      1.00       205\n",
      "           6       1.00      1.00      1.00       227\n",
      "\n",
      "    accuracy                           1.00      4474\n",
      "   macro avg       1.00      1.00      1.00      4474\n",
      "weighted avg       1.00      1.00      1.00      4474\n",
      "\n"
     ]
    }
   ],
   "source": [
    "print(metric.classification_report(y_train, train_preds))"
   ]
  },
  {
   "cell_type": "markdown",
   "metadata": {},
   "source": [
    "Optimal k value is again 1, indicating one feature other than Popularity is still highly deterministic in predicating classes."
   ]
  },
  {
   "cell_type": "markdown",
   "metadata": {},
   "source": [
    "Investigate features impact on model performance by using smaller sets of features then add in additional features to evaluate impact on model performacne"
   ]
  },
  {
   "cell_type": "code",
   "execution_count": 19,
   "metadata": {},
   "outputs": [
    {
     "data": {
      "text/plain": [
       "Index(['Year', 'Engine HP', 'Engine Cylinders', 'highway MPG', 'city mpg',\n",
       "       'Popularity', 'MSRP', 'Performance', 'Factory Tuner', 'Hybrid',\n",
       "       'High-Performance', 'Hatchback', 'Exotic', 'Crossover', 'Luxury',\n",
       "       'Flex Fuel', 'Diesel', 'x0_diesel', 'x0_electric',\n",
       "       'x0_flex-fuel (premium unleaded recommended/E85)',\n",
       "       'x0_flex-fuel (premium unleaded required/E85)',\n",
       "       'x0_flex-fuel (unleaded/E85)', 'x0_premium unleaded (recommended)',\n",
       "       'x0_premium unleaded (required)', 'x0_regular unleaded',\n",
       "       'x1_AUTOMATED_MANUAL', 'x1_AUTOMATIC', 'x1_DIRECT_DRIVE', 'x1_MANUAL',\n",
       "       'x2_all wheel drive', 'x2_four wheel drive', 'x2_front wheel drive',\n",
       "       'x2_rear wheel drive', 'x3_Compact', 'x3_Large', 'x3_Midsize',\n",
       "       'x4_2dr Hatchback', 'x4_4dr Hatchback', 'x4_4dr SUV', 'x4_Cargo Van',\n",
       "       'x4_Convertible', 'x4_Coupe', 'x4_Crew Cab Pickup',\n",
       "       'x4_Extended Cab Pickup', 'x4_Passenger Minivan', 'x4_Passenger Van',\n",
       "       'x4_Regular Cab Pickup', 'x4_Sedan', 'x4_Wagon'],\n",
       "      dtype='object')"
      ]
     },
     "execution_count": 19,
     "metadata": {},
     "output_type": "execute_result"
    }
   ],
   "source": [
    "#check available feature \n",
    "X_train.columns"
   ]
  },
  {
   "cell_type": "code",
   "execution_count": 20,
   "metadata": {},
   "outputs": [],
   "source": [
    "#start with just two features\n",
    "col_features = ['highway MPG', 'city mpg']\n",
    "\n",
    "scaled_data_train_num = scaled_df_train[col_features]\n",
    "scaled_data_test_num = scaled_df_test[col_features]"
   ]
  },
  {
   "cell_type": "code",
   "execution_count": 21,
   "metadata": {},
   "outputs": [],
   "source": [
    "#fit model\n",
    "knn = KNeighborsClassifier()\n",
    "knn.fit(scaled_data_train_num, y_train)\n",
    "test_preds = knn.predict(scaled_data_test_num)\n",
    "train_preds = knn.predict(scaled_data_train_num)"
   ]
  },
  {
   "cell_type": "code",
   "execution_count": 22,
   "metadata": {},
   "outputs": [
    {
     "name": "stdout",
     "output_type": "stream",
     "text": [
      "              precision    recall  f1-score   support\n",
      "\n",
      "           0       0.67      0.05      0.10        37\n",
      "           1       0.27      0.14      0.19        64\n",
      "           2       0.54      0.67      0.60       478\n",
      "           3       0.48      0.44      0.46       317\n",
      "           4       0.55      0.61      0.58       460\n",
      "           5       0.38      0.14      0.20        72\n",
      "           6       0.63      0.42      0.50        64\n",
      "\n",
      "    accuracy                           0.53      1492\n",
      "   macro avg       0.50      0.35      0.38      1492\n",
      "weighted avg       0.52      0.53      0.51      1492\n",
      "\n"
     ]
    }
   ],
   "source": [
    "#evaluate model, model perform well below models with all features\n",
    "print(metric.classification_report(y_test, test_preds))"
   ]
  },
  {
   "cell_type": "code",
   "execution_count": 23,
   "metadata": {},
   "outputs": [
    {
     "name": "stdout",
     "output_type": "stream",
     "text": [
      "              precision    recall  f1-score   support\n",
      "\n",
      "           0       0.62      0.09      0.16       109\n",
      "           1       0.40      0.24      0.30       157\n",
      "           2       0.57      0.72      0.64      1431\n",
      "           3       0.57      0.46      0.51      1008\n",
      "           4       0.59      0.67      0.63      1337\n",
      "           5       0.58      0.20      0.29       205\n",
      "           6       0.67      0.39      0.50       227\n",
      "\n",
      "    accuracy                           0.57      4474\n",
      "   macro avg       0.57      0.40      0.43      4474\n",
      "weighted avg       0.57      0.57      0.56      4474\n",
      "\n"
     ]
    }
   ],
   "source": [
    "print(metric.classification_report(y_train, train_preds))"
   ]
  },
  {
   "cell_type": "code",
   "execution_count": 24,
   "metadata": {},
   "outputs": [
    {
     "data": {
      "text/plain": [
       "(8, 0.40574613368571555)"
      ]
     },
     "execution_count": 24,
     "metadata": {},
     "output_type": "execute_result"
    }
   ],
   "source": [
    "fn.optimize_k_knn(scaled_data_train_num, y_train, scaled_data_test_num, y_test, min_k=1, max_k=10, score='macro')"
   ]
  },
  {
   "cell_type": "code",
   "execution_count": 25,
   "metadata": {},
   "outputs": [],
   "source": [
    "#requires higher number of neighbors"
   ]
  },
  {
   "cell_type": "code",
   "execution_count": 26,
   "metadata": {
    "scrolled": true
   },
   "outputs": [
    {
     "name": "stdout",
     "output_type": "stream",
     "text": [
      "              precision    recall  f1-score   support\n",
      "\n",
      "           0       0.70      0.84      0.77        37\n",
      "           1       0.81      0.59      0.68        64\n",
      "           2       0.88      0.89      0.88       478\n",
      "           3       0.84      0.80      0.82       317\n",
      "           4       0.83      0.90      0.86       460\n",
      "           5       0.73      0.53      0.61        72\n",
      "           6       0.83      0.83      0.83        64\n",
      "\n",
      "    accuracy                           0.84      1492\n",
      "   macro avg       0.80      0.77      0.78      1492\n",
      "weighted avg       0.84      0.84      0.84      1492\n",
      "\n"
     ]
    }
   ],
   "source": [
    "#add Engine HP\n",
    "col_features = ['highway MPG', 'city mpg', 'Engine HP']\n",
    "\n",
    "scaled_data_train_num = scaled_df_train[col_features]\n",
    "scaled_data_test_num = scaled_df_test[col_features]\n",
    "\n",
    "knn = KNeighborsClassifier()\n",
    "knn.fit(scaled_data_train_num, y_train)\n",
    "test_preds = knn.predict(scaled_data_test_num)\n",
    "train_preds = knn.predict(scaled_data_train_num)\n",
    "\n",
    "print(metric.classification_report(y_test, test_preds))"
   ]
  },
  {
   "cell_type": "markdown",
   "metadata": {},
   "source": [
    "Model improves drastically, which means Engine HP is a highly deterministic feature"
   ]
  },
  {
   "cell_type": "code",
   "execution_count": 27,
   "metadata": {},
   "outputs": [
    {
     "data": {
      "text/plain": [
       "(1, 0.8930854344258243)"
      ]
     },
     "execution_count": 27,
     "metadata": {},
     "output_type": "execute_result"
    }
   ],
   "source": [
    "fn.optimize_k_knn(scaled_data_train_num, y_train, scaled_data_test_num, y_test, min_k=1, max_k=10, score='macro')"
   ]
  },
  {
   "cell_type": "code",
   "execution_count": 28,
   "metadata": {
    "scrolled": true
   },
   "outputs": [
    {
     "name": "stdout",
     "output_type": "stream",
     "text": [
      "              precision    recall  f1-score   support\n",
      "\n",
      "           0       0.43      0.41      0.42        37\n",
      "           1       0.31      0.25      0.28        64\n",
      "           2       0.65      0.69      0.67       478\n",
      "           3       0.71      0.73      0.72       317\n",
      "           4       0.67      0.71      0.69       460\n",
      "           5       0.41      0.18      0.25        72\n",
      "           6       0.67      0.59      0.63        64\n",
      "\n",
      "    accuracy                           0.65      1492\n",
      "   macro avg       0.55      0.51      0.52      1492\n",
      "weighted avg       0.64      0.65      0.64      1492\n",
      "\n"
     ]
    }
   ],
   "source": [
    "col_features = ['highway MPG', 'city mpg', 'MSRP']\n",
    "\n",
    "scaled_data_train_num = scaled_df_train[col_features]\n",
    "scaled_data_test_num = scaled_df_test[col_features]\n",
    "\n",
    "knn = KNeighborsClassifier()\n",
    "knn.fit(scaled_data_train_num, y_train)\n",
    "test_preds = knn.predict(scaled_data_test_num)\n",
    "train_preds = knn.predict(scaled_data_train_num)\n",
    "\n",
    "print(metric.classification_report(y_test, test_preds))"
   ]
  },
  {
   "cell_type": "code",
   "execution_count": 29,
   "metadata": {},
   "outputs": [
    {
     "data": {
      "text/plain": [
       "(1, 0.6494737286044253)"
      ]
     },
     "execution_count": 29,
     "metadata": {},
     "output_type": "execute_result"
    }
   ],
   "source": [
    "fn.optimize_k_knn(scaled_data_train_num, y_train, scaled_data_test_num, y_test, min_k=1, max_k=10, score='macro')"
   ]
  },
  {
   "cell_type": "markdown",
   "metadata": {},
   "source": [
    "Adding 'MSRP' feature increases model performance but not nearly as much as model with 'Engine HP'"
   ]
  },
  {
   "cell_type": "code",
   "execution_count": 30,
   "metadata": {
    "scrolled": false
   },
   "outputs": [
    {
     "name": "stdout",
     "output_type": "stream",
     "text": [
      "              precision    recall  f1-score   support\n",
      "\n",
      "           0       0.53      0.73      0.61        37\n",
      "           1       0.40      0.50      0.44        64\n",
      "           2       0.75      0.82      0.78       478\n",
      "           3       0.65      0.67      0.66       317\n",
      "           4       0.79      0.73      0.76       460\n",
      "           5       0.46      0.24      0.31        72\n",
      "           6       0.72      0.56      0.63        64\n",
      "\n",
      "    accuracy                           0.70      1492\n",
      "   macro avg       0.61      0.61      0.60      1492\n",
      "weighted avg       0.70      0.70      0.70      1492\n",
      "\n"
     ]
    }
   ],
   "source": [
    "#fit model using only engine prediction\n",
    "col_features = ['Engine HP']\n",
    "\n",
    "scaled_data_train_num = scaled_df_train[col_features]\n",
    "scaled_data_test_num = scaled_df_test[col_features]\n",
    "\n",
    "knn = KNeighborsClassifier()\n",
    "knn.fit(scaled_data_train_num, y_train)\n",
    "test_preds = knn.predict(scaled_data_test_num)\n",
    "train_preds = knn.predict(scaled_data_train_num)\n",
    "\n",
    "print(metric.classification_report(y_test, test_preds))"
   ]
  },
  {
   "cell_type": "markdown",
   "metadata": {},
   "source": [
    "Using only 'Engine HP' feature to predict already results in 70% accuracy and 0.6 F1 score, showing that it has highest impact on prediction"
   ]
  },
  {
   "cell_type": "markdown",
   "metadata": {},
   "source": [
    "#### Summary\n",
    "\n",
    "- KNN model can predict carmaker origin on test date with 94% accuracy and 0.93 F1-score\n",
    "- The mdoel shows slight overfitting with training data having 100% accuracy and 1.0 F1-score\n",
    "- Because optimized k=1, it shows there is a single dominant features that is highly deterministic in making predictions\n",
    "- After investigation feature 'Engine HP' is confirmed to have high impact on making predictions"
   ]
  },
  {
   "cell_type": "code",
   "execution_count": null,
   "metadata": {},
   "outputs": [],
   "source": []
  }
 ],
 "metadata": {
  "kernelspec": {
   "display_name": "learn-env",
   "language": "python",
   "name": "learn-env"
  },
  "language_info": {
   "codemirror_mode": {
    "name": "ipython",
    "version": 3
   },
   "file_extension": ".py",
   "mimetype": "text/x-python",
   "name": "python",
   "nbconvert_exporter": "python",
   "pygments_lexer": "ipython3",
   "version": "3.6.6"
  }
 },
 "nbformat": 4,
 "nbformat_minor": 2
}
